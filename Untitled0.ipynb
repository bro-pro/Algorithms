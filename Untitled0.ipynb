{
  "nbformat": 4,
  "nbformat_minor": 0,
  "metadata": {
    "colab": {
      "name": "Untitled0.ipynb",
      "provenance": [],
      "authorship_tag": "ABX9TyPpQsXS6oGOYDxJ7a92/4DK",
      "include_colab_link": true
    },
    "kernelspec": {
      "name": "python3",
      "display_name": "Python 3"
    }
  },
  "cells": [
    {
      "cell_type": "markdown",
      "metadata": {
        "id": "view-in-github",
        "colab_type": "text"
      },
      "source": [
        "<a href=\"https://colab.research.google.com/github/bro-pro/Algorithms/blob/master/Untitled0.ipynb\" target=\"_parent\"><img src=\"https://colab.research.google.com/assets/colab-badge.svg\" alt=\"Open In Colab\"/></a>"
      ]
    },
    {
      "cell_type": "code",
      "metadata": {
        "id": "Gm_l-lZK-7En",
        "colab_type": "code",
        "colab": {}
      },
      "source": [
        "#@title Default title text\n"
      ],
      "execution_count": 0,
      "outputs": []
    },
    {
      "cell_type": "markdown",
      "metadata": {
        "id": "OWLsHitO_Q4T",
        "colab_type": "text"
      },
      "source": [
        ""
      ]
    },
    {
      "cell_type": "code",
      "metadata": {
        "id": "U0qdM7kE83uL",
        "colab_type": "code",
        "colab": {}
      },
      "source": [
        "model=Sequential()\n"
      ],
      "execution_count": 0,
      "outputs": []
    },
    {
      "cell_type": "code",
      "metadata": {
        "id": "ulo84r5_9rKt",
        "colab_type": "code",
        "colab": {}
      },
      "source": [
        "model.add(Embedding(20000,32,input_length=100))"
      ],
      "execution_count": 0,
      "outputs": []
    },
    {
      "cell_type": "code",
      "metadata": {
        "id": "IpI2ynDz9zrK",
        "colab_type": "code",
        "colab": {}
      },
      "source": [
        "model.add(Conv1d(32,kernel_size=3,padding='same',activation='relu'))"
      ],
      "execution_count": 0,
      "outputs": []
    },
    {
      "cell_type": "code",
      "metadata": {
        "id": "BnmMJYWG94gq",
        "colab_type": "code",
        "colab": {}
      },
      "source": [
        "model.add(MaxPooling1d(pool_size=3))"
      ],
      "execution_count": 0,
      "outputs": []
    },
    {
      "cell_type": "code",
      "metadata": {
        "id": "F1ie_1kP996B",
        "colab_type": "code",
        "colab": {}
      },
      "source": [
        "model.add(Conv1d(64,kernel_size=3,padding='same',activation='relu'))"
      ],
      "execution_count": 0,
      "outputs": []
    },
    {
      "cell_type": "code",
      "metadata": {
        "id": "cH5_Y4M8-Cz6",
        "colab_type": "code",
        "colab": {}
      },
      "source": [
        "model.add(MaxPooling1d(pool_size=3))"
      ],
      "execution_count": 0,
      "outputs": []
    },
    {
      "cell_type": "code",
      "metadata": {
        "id": "F6eehjJE-JBL",
        "colab_type": "code",
        "colab": {}
      },
      "source": [
        "model.add(LSTM(50,return_sequences=True))"
      ],
      "execution_count": 0,
      "outputs": []
    },
    {
      "cell_type": "code",
      "metadata": {
        "id": "iPQApDOH-RZv",
        "colab_type": "code",
        "colab": {}
      },
      "source": [
        "model.add(Flattern())"
      ],
      "execution_count": 0,
      "outputs": []
    },
    {
      "cell_type": "code",
      "metadata": {
        "id": "2gPfouxD-VN5",
        "colab_type": "code",
        "colab": {}
      },
      "source": [
        "model.add(Dense(128,activation='relu'))"
      ],
      "execution_count": 0,
      "outputs": []
    },
    {
      "cell_type": "code",
      "metadata": {
        "id": "mzexa9nN-Y4p",
        "colab_type": "code",
        "colab": {}
      },
      "source": [
        "model.add(Dropout(0.45))"
      ],
      "execution_count": 0,
      "outputs": []
    },
    {
      "cell_type": "code",
      "metadata": {
        "id": "9kN0n28n-ch5",
        "colab_type": "code",
        "colab": {}
      },
      "source": [
        "model.add(Dense(1,activation='sigmoid'))"
      ],
      "execution_count": 0,
      "outputs": []
    },
    {
      "cell_type": "code",
      "metadata": {
        "id": "aJJ53eRL-hAh",
        "colab_type": "code",
        "colab": {}
      },
      "source": [
        "model,compile(loss='binary_crossentopy',optimizer='adam',metrics=['accuracy'])"
      ],
      "execution_count": 0,
      "outputs": []
    }
  ]
}